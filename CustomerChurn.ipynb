{
  "cells": [
    {
      "cell_type": "code",
      "source": [
        "from sklearn.linear_model import LogisticRegression\n",
        "from sklearn.model_selection import train_test_split\n",
        "from sklearn.metrics import confusion_matrix\n",
        "from sklearn.metrics import classification_report\n",
        "from sklearn import preprocessing\n",
        "import matplotlib.pyplot as plt\n",
        "from sklearn import metrics\n",
        "import pandas as pd\n",
        "import numpy as np"
      ],
      "outputs": [],
      "execution_count": 18,
      "metadata": {
        "gather": {
          "logged": 1619052992449
        }
      },
      "id": "curious-tactics"
    },
    {
      "cell_type": "code",
      "source": [
        "# Read the data\n",
        "data = pd.read_csv(\"./CustomerChurn.csv\")"
      ],
      "outputs": [],
      "execution_count": 16,
      "metadata": {
        "gather": {
          "logged": 1619043692094
        }
      },
      "id": "preliminary-rachel"
    },
    {
      "cell_type": "code",
      "source": [
        "# Data cleaning\n",
        "'''\n",
        "data.INCOME_RANGE = pd.Categorical(data.INCOME_RANGE)\n",
        "data.HH_SIZE = pd.Categorical(data.HH_SIZE)\n",
        "data.MARITAL = pd.Categorical(data.MARITAL)\n",
        "data.LOYALTY_FLAG = pd.Categorical(data.LOYALTY_FLAG)\n",
        "data['INCOME_RANGE'] = data.INCOME_RANGE.cat.codes\n",
        "data['HH_SIZE'] = data.HH_SIZE.cat.codes\n",
        "data['MARITAL'] = data.MARITAL.cat.codes\n",
        "data['LOYALTY_FLAG'] = data.LOYALTY_FLAG.cat.codes\n",
        "data['TOTAL_SPEND'] = data.TOTAL_SPEND.astype('int')\n",
        "\n",
        "data.to_csv(r'./CustomerChurn.csv', index = False)\n",
        "'''\n"
      ],
      "outputs": [
        {
          "output_type": "execute_result",
          "execution_count": 4,
          "data": {
            "text/plain": "\"\\ndata.INCOME_RANGE = pd.Categorical(data.INCOME_RANGE)\\ndata.HH_SIZE = pd.Categorical(data.HH_SIZE)\\ndata.MARITAL = pd.Categorical(data.MARITAL)\\ndata.LOYALTY_FLAG = pd.Categorical(data.LOYALTY_FLAG)\\ndata['INCOME_RANGE'] = data.INCOME_RANGE.cat.codes\\ndata['HH_SIZE'] = data.HH_SIZE.cat.codes\\ndata['MARITAL'] = data.MARITAL.cat.codes\\ndata['LOYALTY_FLAG'] = data.LOYALTY_FLAG.cat.codes\\ndata['TOTAL_SPEND'] = data.TOTAL_SPEND.astype('int')\\n\\ndata.to_csv(r'./CustomerChurn.csv', index = False)\\n\""
          },
          "metadata": {}
        }
      ],
      "execution_count": 4,
      "metadata": {
        "gather": {
          "logged": 1619039322538
        }
      },
      "id": "exceptional-mobile"
    },
    {
      "cell_type": "code",
      "source": [
        "# Display first five rows\r\n",
        "data.head()"
      ],
      "outputs": [
        {
          "output_type": "execute_result",
          "execution_count": 15,
          "data": {
            "text/plain": "   TOTAL_SPEND  MARITAL  HH_SIZE  INCOME_RANGE  LOYALTY_FLAG\n0           89        1        0             2             1\n1           94        0        2             3             1\n2           79        0        1             5             1\n3          292        0        4             2             1\n4          150        0        2             4             1",
            "text/html": "<div>\n<style scoped>\n    .dataframe tbody tr th:only-of-type {\n        vertical-align: middle;\n    }\n\n    .dataframe tbody tr th {\n        vertical-align: top;\n    }\n\n    .dataframe thead th {\n        text-align: right;\n    }\n</style>\n<table border=\"1\" class=\"dataframe\">\n  <thead>\n    <tr style=\"text-align: right;\">\n      <th></th>\n      <th>TOTAL_SPEND</th>\n      <th>MARITAL</th>\n      <th>HH_SIZE</th>\n      <th>INCOME_RANGE</th>\n      <th>LOYALTY_FLAG</th>\n    </tr>\n  </thead>\n  <tbody>\n    <tr>\n      <th>0</th>\n      <td>89</td>\n      <td>1</td>\n      <td>0</td>\n      <td>2</td>\n      <td>1</td>\n    </tr>\n    <tr>\n      <th>1</th>\n      <td>94</td>\n      <td>0</td>\n      <td>2</td>\n      <td>3</td>\n      <td>1</td>\n    </tr>\n    <tr>\n      <th>2</th>\n      <td>79</td>\n      <td>0</td>\n      <td>1</td>\n      <td>5</td>\n      <td>1</td>\n    </tr>\n    <tr>\n      <th>3</th>\n      <td>292</td>\n      <td>0</td>\n      <td>4</td>\n      <td>2</td>\n      <td>1</td>\n    </tr>\n    <tr>\n      <th>4</th>\n      <td>150</td>\n      <td>0</td>\n      <td>2</td>\n      <td>4</td>\n      <td>1</td>\n    </tr>\n  </tbody>\n</table>\n</div>"
          },
          "metadata": {}
        }
      ],
      "execution_count": 15,
      "metadata": {
        "collapsed": true,
        "jupyter": {
          "source_hidden": false,
          "outputs_hidden": false
        },
        "nteract": {
          "transient": {
            "deleting": false
          }
        },
        "gather": {
          "logged": 1619043676816
        }
      },
      "id": "3b673e3f-6e25-432d-9c63-065a14b326c2"
    },
    {
      "cell_type": "code",
      "source": [
        "# plotting correlation of features with respect to label\n",
        "plt.figure(figsize=(5,5))\n",
        "sns.heatmap(data.drop('LOYALTY_FLAG', axis=1).corr(), annot=True)"
      ],
      "outputs": [
        {
          "output_type": "execute_result",
          "execution_count": 29,
          "data": {
            "text/plain": "<AxesSubplot:>"
          },
          "metadata": {}
        },
        {
          "output_type": "display_data",
          "data": {
            "image/png": "[encoded data removed]",
            "text/plain": "<Figure size 360x360 with 2 Axes>"
          },
          "metadata": {
            "needs_background": "light"
          }
        }
      ],
      "execution_count": 29,
      "metadata": {},
      "id": "f3b25c4d"
    },
    {
      "cell_type": "code",
      "source": [
        "# seperating features and label\n",
        "X = data.iloc[:, 0:-1]\n",
        "y = data.iloc[:, -1]"
      ],
      "outputs": [],
      "execution_count": 5,
      "metadata": {
        "gather": {
          "logged": 1619039332440
        }
      },
      "id": "extended-space"
    },
    {
      "cell_type": "code",
      "source": [
        "# Check for each class count\n",
        "print(\"DATASET DISTRIBUTION:\\nNumber of instances in class 0 or 'unloyal' :\", y.value_counts()[0])\n",
        "print(\"Number of instances in class 1 or 'loyal' :\", y.value_counts()[1])"
      ],
      "outputs": [
        {
          "output_type": "stream",
          "name": "stdout",
          "text": [
            "DATASET DISTRIBUTION:\n",
            "Number of instances in class 0 or 'unloyal' : 71\n",
            "Number of instances in class 1 or 'loyal' : 197\n"
          ]
        }
      ],
      "execution_count": 6,
      "metadata": {
        "gather": {
          "logged": 1619039334524
        }
      },
      "id": "level-victory"
    },
    {
      "cell_type": "code",
      "source": [
        "#split data into training and test\n",
        "X_train, X_test, y_train, y_test = train_test_split(X, y, test_size = 0.2, random_state=42)"
      ],
      "outputs": [],
      "execution_count": 7,
      "metadata": {
        "gather": {
          "logged": 1619039358273
        }
      },
      "id": "satellite-recognition"
    },
    {
      "cell_type": "code",
      "source": [
        "# Define the model\n",
        "model = LogisticRegression(max_iter = 1000)\n",
        "\n",
        "# Train the model\n",
        "model.fit(X_train, y_train.ravel())"
      ],
      "outputs": [
        {
          "output_type": "execute_result",
          "execution_count": 8,
          "data": {
            "text/plain": "LogisticRegression(C=1.0, class_weight=None, dual=False, fit_intercept=True,\n                   intercept_scaling=1, l1_ratio=None, max_iter=1000,\n                   multi_class='auto', n_jobs=None, penalty='l2',\n                   random_state=None, solver='lbfgs', tol=0.0001, verbose=0,\n                   warm_start=False)"
          },
          "metadata": {}
        }
      ],
      "execution_count": 8,
      "metadata": {
        "gather": {
          "logged": 1619039362204
        }
      },
      "id": "spread-asbestos"
    },
    {
      "cell_type": "code",
      "source": [
        "# Model parameters\n",
        "print('\\nMODEL PARAMETERS: \\nweights: ', model.coef_)\n",
        "print('bias: ', model.intercept_)"
      ],
      "outputs": [
        {
          "output_type": "stream",
          "name": "stdout",
          "text": [
            "\n",
            "MODEL PARAMETERS: \n",
            "weights:  [[ 0.01418876 -0.34609983  0.14408751  0.02292672]]\n",
            "bias:  [-0.3975337]\n"
          ]
        }
      ],
      "execution_count": 9,
      "metadata": {
        "gather": {
          "logged": 1619039365939
        }
      },
      "id": "equivalent-custom"
    },
    {
      "cell_type": "code",
      "source": [
        "# Test the model\n",
        "predictions = model.predict(X_test)"
      ],
      "outputs": [],
      "execution_count": 10,
      "metadata": {
        "gather": {
          "logged": 1619039369735
        }
      },
      "id": "extraordinary-latter"
    },
    {
      "cell_type": "code",
      "source": [
        "# Check accuracy score\n",
        "score = model.score(X_test, y_test)\n",
        "print(f\"\\nAccuracy: {score}\")"
      ],
      "outputs": [
        {
          "output_type": "stream",
          "name": "stdout",
          "text": [
            "\n",
            "Accuracy: 0.7407407407407407\n"
          ]
        }
      ],
      "execution_count": 11,
      "metadata": {
        "gather": {
          "logged": 1619039373469
        }
      },
      "id": "blank-virus"
    },
    {
      "cell_type": "code",
      "source": [
        "# print confusion matrix\n",
        "print('Confusion Matrix:\\n',confusion_matrix(y_test, predictions))"
      ],
      "outputs": [
        {
          "output_type": "stream",
          "name": "stdout",
          "text": [
            "Confusion Matrix:\n",
            " [[ 3 11]\n",
            " [ 3 37]]\n"
          ]
        }
      ],
      "execution_count": 12,
      "metadata": {
        "gather": {
          "logged": 1619039377400
        }
      },
      "id": "33b8b58e"
    },
    {
      "cell_type": "code",
      "source": [
        "# print classification summary\r\n",
        "target_names = ['class 0', 'class 1']\r\n",
        "print('Classification report:\\n',classification_report(y_test, predictions, target_names=target_names))"
      ],
      "outputs": [
        {
          "output_type": "stream",
          "name": "stdout",
          "text": [
            "Classification report:\n",
            "               precision    recall  f1-score   support\n",
            "\n",
            "     class 0       0.50      0.21      0.30        14\n",
            "     class 1       0.77      0.93      0.84        40\n",
            "\n",
            "    accuracy                           0.74        54\n",
            "   macro avg       0.64      0.57      0.57        54\n",
            "weighted avg       0.70      0.74      0.70        54\n",
            "\n"
          ]
        }
      ],
      "execution_count": 14,
      "metadata": {
        "gather": {
          "logged": 1619039387029
        }
      },
      "id": "46cd0f87"
    },
    {
      "cell_type": "code",
      "source": [],
      "outputs": [],
      "execution_count": null,
      "metadata": {
        "collapsed": true,
        "jupyter": {
          "source_hidden": false,
          "outputs_hidden": false
        },
        "nteract": {
          "transient": {
            "deleting": false
          }
        }
      },
      "id": "424340b5-2f63-445a-b05e-05f36111e3ff"
    }
  ],
  "metadata": {
    "kernelspec": {
      "name": "python3",
      "language": "python",
      "display_name": "Python 3"
    },
    "language_info": {
      "name": "python",
      "version": "3.6.9",
      "mimetype": "text/x-python",
      "codemirror_mode": {
        "name": "ipython",
        "version": 3
      },
      "pygments_lexer": "ipython3",
      "nbconvert_exporter": "python",
      "file_extension": ".py"
    },
    "nteract": {
      "version": "nteract-front-end@1.0.0"
    },
    "kernel_info": {
      "name": "python3"
    },
    "microsoft": {
      "host": {
        "AzureML": {
          "notebookHasBeenCompleted": true
        }
      }
    }
  },
  "nbformat": 4,
  "nbformat_minor": 5
}